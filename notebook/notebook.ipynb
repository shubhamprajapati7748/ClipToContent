{
 "cells": [
  {
   "cell_type": "code",
   "execution_count": 1,
   "metadata": {},
   "outputs": [],
   "source": [
    "from youtube_transcript_api import YouTubeTranscriptApi\n",
    "from youtube_transcript_api.formatters import TextFormatter\n",
    "from typing_extensions import TypedDict, Annotated\n",
    "from urllib.parse import urlparse, parse_qs\n",
    "import json"
   ]
  },
  {
   "cell_type": "code",
   "execution_count": 2,
   "metadata": {},
   "outputs": [
    {
     "data": {
      "text/plain": [
       "AIMessage(content='My name is Qwen. I am a large language model created by Alibaba Cloud.', additional_kwargs={}, response_metadata={'token_usage': {'completion_tokens': 18, 'prompt_tokens': 34, 'total_tokens': 52, 'completion_time': 0.09, 'prompt_time': 0.003987688, 'queue_time': 0.235814467, 'total_time': 0.093987688}, 'model_name': 'qwen-2.5-32b', 'system_fingerprint': 'fp_35f92f8282', 'finish_reason': 'stop', 'logprobs': None}, id='run-0af94332-fba9-4866-ba62-f0e934344f39-0', usage_metadata={'input_tokens': 34, 'output_tokens': 18, 'total_tokens': 52})"
      ]
     },
     "execution_count": 2,
     "metadata": {},
     "output_type": "execute_result"
    }
   ],
   "source": [
    "import os \n",
    "from langchain_groq import ChatGroq \n",
    "from dotenv import load_dotenv\n",
    "\n",
    "load_dotenv()\n",
    "\n",
    "os.environ[\"GROQ_API_KEY\"]=os.getenv(\"GROQ_API_KEY\")\n",
    "# llm = ChatGroq(model='deepseek-r1-distill-llama-70b')\n",
    "# llm = ChatGroq(model='gemma2-9b-it')\n",
    "llm = ChatGroq(model='qwen-2.5-32b')\n",
    "\n",
    "llm.invoke(\"What is your name?\")"
   ]
  },
  {
   "cell_type": "code",
   "execution_count": 3,
   "metadata": {},
   "outputs": [],
   "source": [
    "class BlogState(TypedDict):\n",
    "    video_url : str\n",
    "    transcript : Annotated[str, 'add_transcript']\n",
    "    summary : Annotated[str, 'add_summary']\n",
    "    blog_post : Annotated[str, \"add_post\"]\n",
    "    review_approved : bool\n",
    "    human_feedback : str"
   ]
  },
  {
   "cell_type": "code",
   "execution_count": 4,
   "metadata": {},
   "outputs": [],
   "source": [
    "def extract_video_id(video_url : str) -> str:\n",
    "    url_parsed = urlparse(video_url)\n",
    "    query_params = parse_qs(url_parsed.query)\n",
    "\n",
    "    if \"v\" in query_params:\n",
    "        video_id = query_params[\"v\"][0]\n",
    "\n",
    "    elif url_parsed.netloc in [\"youtu.be\", \"www.youtube.com\", \"youtube.com\"] and url_parsed.path: \n",
    "        video_id = url_parsed.path.split(\"/\")[-1]\n",
    "\n",
    "    else:\n",
    "        raise ValueError(\"Invalid Youtube URL format\")\n",
    "    \n",
    "    return video_id"
   ]
  },
  {
   "cell_type": "code",
   "execution_count": 5,
   "metadata": {},
   "outputs": [],
   "source": [
    "def extract_transcript(state : BlogState) -> BlogState:\n",
    "    video_url = state['video_url']\n",
    "    print(f\"Extracting transcript for video URL: {video_url}\")\n",
    "\n",
    "    try:\n",
    "        video_id = extract_video_id(video_url)\n",
    "        transcript = YouTubeTranscriptApi.get_transcript(video_id, languages=['en'])\n",
    "        formatter = TextFormatter()\n",
    "        transcript_formatted = formatter.format_transcript(transcript)\n",
    "        state['transcript'] = transcript_formatted\n",
    "        print(f\"Transcript successfully extracted : {transcript_formatted[:100]}...\")\n",
    "    \n",
    "    except Exception as e:\n",
    "        state['transcript'] = f\"Error : {str(e)}\"\n",
    "        print(f\"Error in extracting transcript : {str(e)}\")\n",
    "\n",
    "    return state"
   ]
  },
  {
   "cell_type": "code",
   "execution_count": 6,
   "metadata": {},
   "outputs": [],
   "source": [
    "def summarize_transcript(state : BlogState) -> BlogState:\n",
    "    print(\"\\n----- In Summarize transcript -----\\n\")\n",
    "    transcript = state['transcript']\n",
    "    prompt = f\"\"\"\n",
    "    \n",
    "    Summarize the following Youtube Transcript while maintains key insights. \n",
    "\n",
    "    Return ONLY a valid JSON object like this:\n",
    "        {{\n",
    "            \"summary_text\" : \"Breif summary here...\",\n",
    "            \"key_points\" : [\"Point 1\", \"Point 2\", \"Point 3\"]\n",
    "        }}\n",
    "\n",
    "    Do NOT incliude extract text before and after the JSON. Just return the JSON\n",
    "\n",
    "    Transcript: \n",
    "    \n",
    "    {transcript}\n",
    "    \"\"\"\n",
    "\n",
    "    try:\n",
    "        summary_msg = llm.invoke(prompt)\n",
    "        summary_json = summary_msg.content # extract the content from AIMessage \n",
    "        summary = json.loads(summary_json)\n",
    "\n",
    "        if isinstance(summary, dict) and \"summary_text\" in summary and \"key_points\" in summary:\n",
    "            state['summary'] = summary\n",
    "            print(f\"Summary successfully generated : {summary}\")        \n",
    "\n",
    "        else:\n",
    "            raise ValueError(\"Invalid summary format\")\n",
    "        \n",
    "    except (json.JSONDecodeError, ValueError) as e:\n",
    "        print(f\"Error in generating summary : {str(e)}\")\n",
    "        state['summary'] = {\"summary_text\" : \"Error in generating summary\", \"key_points\" : []}\n",
    "\n",
    "    return state"
   ]
  },
  {
   "cell_type": "code",
   "execution_count": 7,
   "metadata": {},
   "outputs": [],
   "source": [
    "def generate_blog(state: BlogState) -> BlogState:\n",
    "    print(\"\\n----- In Generate Blog -----\\n\")\n",
    "\n",
    "    blog_summary = state['summary']\n",
    "    prompt = f\"\"\"\n",
    "\n",
    "    Convert the following summarized transcript into a well-structed blog post.\n",
    "\n",
    "    The blog should be engaging, informative and well-structed with an introduction, key takeaway and a conclusion. \n",
    "\n",
    "    Return ONLY a valid JSON object formatted as follows (No extra text outside JSON):\n",
    "        {{\n",
    "            \"title\" : \"Your Title Here\", \n",
    "            \"introduction: \"Introduction text here...\",\n",
    "            \"content: \"Main blog content here...\",\n",
    "            \"conclusion: \"Conclusion here...\"\n",
    "        }}\n",
    "\n",
    "    Here is the transcript summary : \n",
    "    \n",
    "    {blog_summary}\n",
    "    \"\"\"\n",
    "\n",
    "    try:\n",
    "        blog_message = llm.invoke(prompt)\n",
    "        blog_content = blog_message.content\n",
    "        blog_post = json.loads(blog_content)\n",
    "\n",
    "        if isinstance(blog_post , dict) and all(key in blog_post for key in [\"title\", \"introduction\", \"content\", \"conclusion\"]):\n",
    "            state['blog_post'] = blog_post\n",
    "            print(f\"Blog post generated successfully : {blog_post}\")\n",
    "        else:\n",
    "            raise ValueError(\"Invalid blog post format.\")\n",
    "        \n",
    "    except (json.JSONDecodeError, ValueError) as e:\n",
    "        print(f\"Error in generating blog post : {str(e)}\")\n",
    "        state['blog_post'] = {\n",
    "            \"title\" : \"Error\",\n",
    "            \"introduction\" : \"There was an error in generating the blog post.\",\n",
    "            \"content\" : \"\",\n",
    "            \"conclusion\" : \"\"\n",
    "        }\n",
    "    \n",
    "    return state"
   ]
  },
  {
   "cell_type": "code",
   "execution_count": 8,
   "metadata": {},
   "outputs": [],
   "source": [
    "def human_review(state : BlogState) -> BlogState:\n",
    "    print(\"\\n----- In Blog Review -----\\n\")\n",
    "    decision = input(\"\\n Approve blog? (yes/no): \").strip().lower()\n",
    "\n",
    "    if decision == \"yes\":\n",
    "        state['review_approved'] = True \n",
    "        state['human_feedback'] = \"\" # no feedback needed\n",
    "    else:\n",
    "        feedback = input(\"\\n Please provide feedback for improvement: \").strip().lower()\n",
    "        state['review_approved'] = False\n",
    "        state['human_feedback'] = feedback\n",
    "\n",
    "    return state "
   ]
  },
  {
   "cell_type": "code",
   "execution_count": 9,
   "metadata": {},
   "outputs": [],
   "source": [
    "def revise_blog(state: BlogState) -> BlogState:\n",
    "    print(\"\\n----- In Revise Blog -----\\n\")\n",
    "    blog_post = state[\"blog_post\"]\n",
    "    feedback = state[\"human_feedback\"]\n",
    "    prompt = f\"\"\"\n",
    "    Here is a blog post:\n",
    "\n",
    "    {blog_post}\n",
    "\n",
    "    The reviewer has given the following feedback:\n",
    "    \"{feedback}\"\n",
    "\n",
    "    Please improve the blog based on this feedback and return the Return ONLY a valid JSON object formatted as follows (No extra text outside JSON):\n",
    "    {{\n",
    "            \"title\" : \"Your Title Here\", \n",
    "            \"introduction: \"Introduction text here...\",\n",
    "            \"content: \"Main blog content here...\",\n",
    "            \"conclusion: \"Conclusion here...\"\n",
    "    }}\n",
    "    \"\"\"\n",
    "    \n",
    "    try:\n",
    "        # Assume llm.invoke(prompt) returns an AIMessage object with a 'content' attribute\n",
    "        revised_blog_message = llm.invoke(prompt)\n",
    "        revised_blog_json = revised_blog_message.content  # Extract the content from AIMessage\n",
    "        revised_blog = json.loads(revised_blog_json)\n",
    "\n",
    "        if isinstance(revised_blog, dict) and all(key in revised_blog for key in [\"title\", \"introduction\", \"content\", \"conclusion\"]):\n",
    "            state[\"blog_post\"] = revised_blog\n",
    "        else:\n",
    "            raise ValueError(\"Invalid blog post format\")\n",
    "        print(f\"Revised blog generated successfully: {revised_blog}\")\n",
    "    \n",
    "    except (json.JSONDecodeError, ValueError) as e:\n",
    "        print(f\"Error revising blog post: {str(e)}\")\n",
    "        state[\"blog_post\"] = {\n",
    "            \"title\": \"Error\",\n",
    "            \"introduction\": \"There was an error revising the blog post.\",\n",
    "            \"content\": \"\",\n",
    "            \"conclusion\": \"\"\n",
    "        }\n",
    "        \n",
    "    return state\n"
   ]
  },
  {
   "cell_type": "markdown",
   "metadata": {},
   "source": [
    "## Creating the LangGraph - Graph"
   ]
  },
  {
   "cell_type": "code",
   "execution_count": 10,
   "metadata": {},
   "outputs": [
    {
     "data": {
      "image/png": "[encoded data removed]",
      "text/plain": [
       "<IPython.core.display.Image object>"
      ]
     },
     "metadata": {},
     "output_type": "display_data"
    }
   ],
   "source": [
    "from langgraph.graph import StateGraph, START, END\n",
    "\n",
    "def should_continue(state: BlogState):\n",
    "    \"\"\" Return the next node to execute \"\"\"\n",
    "\n",
    "    # Check if approved:\n",
    "    \n",
    "    if state[\"review_approved\"]:\n",
    "        return END\n",
    "    \n",
    "    # Otherwise \n",
    "    return \"revise_blog\"\n",
    "\n",
    "\n",
    "workflow_buider = StateGraph(BlogState)\n",
    "\n",
    "## Define nodes\n",
    "workflow_buider.add_node(\"extract_transcript\", extract_transcript)\n",
    "workflow_buider.add_node(\"summarize_transcript\", summarize_transcript)\n",
    "workflow_buider.add_node(\"generate_blog\", generate_blog)\n",
    "workflow_buider.add_node(\"human_review\", human_review)\n",
    "workflow_buider.add_node(\"revise_blog\", revise_blog)\n",
    "\n",
    "## Define execution order\n",
    "workflow_buider.add_edge(START, \"extract_transcript\")\n",
    "workflow_buider.add_edge(\"extract_transcript\", \"summarize_transcript\")\n",
    "workflow_buider.add_edge(\"summarize_transcript\", \"generate_blog\")\n",
    "workflow_buider.add_edge(\"generate_blog\", \"human_review\")\n",
    "\n",
    "# Conditional feedback loop: If rejected, revise the blog and review again\n",
    "workflow_buider.add_conditional_edges(\n",
    "    \"human_review\", should_continue, [\"revise_blog\", END]\n",
    ")\n",
    "workflow_buider.add_edge('revise_blog', \"human_review\") # Retry loop\n",
    "\n",
    "workflow = workflow_buider.compile()\n",
    "\n",
    "from IPython.display import Image, display\n",
    "display(Image(workflow.get_graph().draw_mermaid_png()))"
   ]
  },
  {
   "cell_type": "code",
   "execution_count": 11,
   "metadata": {},
   "outputs": [
    {
     "name": "stdout",
     "output_type": "stream",
     "text": [
      "Extracting transcript for video URL: https://www.youtube.com/watch?v=9ofL45Mrzj0\n",
      "Transcript successfully extracted : moit and SEMA were husband and wife they\n",
      "had twin Sons named Sonu and monu both\n",
      "of them were twins b...\n",
      "\n",
      "----- In Summarize transcript -----\n",
      "\n",
      "Summary successfully generated : {'summary_text': 'The video discusses the contrasting behaviors of twin brothers, Sonu and Monu. Sonu is diligent, preparing for tests and projects promptly, while Monu procrastinates and prefers playing to studying. Their contrasting approaches result in Sonu performing well in his tests and Monu receiving reprimands. The father, moit, emphasizes the importance of managing time well to succeed and encourages Monu to adopt a more responsible attitude towards his studies and time management.', 'key_points': ['Sonu and Monu have different approaches to studying and time management.', \"Sonu's punctuality and diligence lead to better academic performance.\", \"Monu's procrastination results in poor performance and parental disappointment.\", \"Father moit stresses the importance of proper time management and making one's own luck.\"]}\n",
      "\n",
      "----- In Generate Blog -----\n",
      "\n",
      "{'video_url': 'https://www.youtube.com/watch?v=9ofL45Mrzj0', 'transcript': \"moit and SEMA were husband and wife they\\nhad twin Sons named Sonu and monu both\\nof them were twins but their faces were\\ncompletely different not only their\\nfaces but their thoughts and habits were\\nquite different like every day moit\\nwakes up on Sunday early in the morning\\nand sees that Sonu also wakes up early\\non Sunday and is studying sitting\\noutside on the couch Sonu son what is\\nthe matter that you are getting up so\\nearly in the morning to study Papa did\\nis a Hindi class test tomorrow and the\\nEnglish project has to be given to Mom\\nafter 2 days that's why I sat down to\\nstudy from morning just then SEMA brings\\nbreakfast for Sonu see one of our son is\\nSonu who wakes up early in the morning\\ntook bath and started studying and the\\nother is monu who woke up early in the\\nmorning but went out to play Bad ball\\nwith his friends just then monu comes\\nthere and talks to Mom Mom quickly give\\nme breakfast while playing bad ball I\\ngot hungry you are completely drenched\\nand sweat First Take bath then I will\\ngive you the breakfast oh Mom even on a\\nday off you don't let me rest in peace I\\nget one holiday in a week in that twoo\\nyou bathe me in the morning and make me\\nsit down to study I have the whole day\\nto study I will take a bath and also\\nstudy Sonu son what is the matter you\\nhave a test tomorrow so like Sonu first\\nof all you should prepare for the test\\nand the rest is just playing around Papa\\nI will study as well I still have the\\nwhole day for that those who do not work\\non time always have to repent hence\\nwhether it is work eating or playing\\nsports everything should be done on time\\nonly then you will be able to move ahead\\nin life learn to utilize time properly\\nlike Sonu does I have to go out for some\\nimportant work I will come in the\\nevening and listen to Hindi questions\\nand answers from both of you saying this\\nmoit goes away from there after some\\ntime Sonu learns everything in Hindi\\nstarts making a project in English while\\nmonu starts watching TV instead of\\nstudying monu's friends come to his\\nhouse to invite him to play monu\\neveryone is waiting for you to play Bad\\nball outside and you are busy watching\\nthis idiot box monu calls his mother mom\\nI'm going to play with my friends if you\\ngo to play Then when will you study hm\\nif you don't study more than your marks\\nwill come down hey Mom I will study in\\nthe evening and see I will also make the\\nEnglish project anyway the test is not\\ntoday but tomorrow and as far as marks\\nare concerned it is up to look whether\\nit is good or bad seeing this monu goes\\nout to play with his friends when moit\\ncomes home in the evening he sees that\\nSonu has prepared and decorated his\\nEnglish project as well yes Dad my\\npreparation for the Hindi test is also\\ncomplete SEMA this monu is not visible\\nanywhere as soon as moit sounds like\\nthis monu enters the house with a bat in\\nhis hand you have been roaming around\\nwith a bat since morning looking at you\\nit seems that neither you have taken\\nbath nor have you studied anything oh\\npapa you started talking about studies\\nas soon as you are back and it is only\\nevening I will study to monu used to\\npostpone all his work till tomorrow due\\nto which all his work remained incomp\\ncomplete the next day Sonu got good\\nmarks in the test whereas monu got a lot\\nof upbraiding from ma'am because of\\ngetting bad marks when both of them came\\nhome also from mother monu got\\nreprimanded a lot hey have some shame\\nmonu you have a brother who is of the\\nsame age as you he does all his work on\\ntime and you keep postponing it due to\\nwhich you always lag behind others as\\nsoon as moit comes home in the evening\\nhe sees the test numbers of both Sonu\\nand monu this is what I expected from\\nyou such dirty numbers that to in Hindi\\nand English you would finish the project\\nby tomorrow or the day after tomorrow\\nisn't it Papa what should I do my luck\\nis going bad moit explains monu with\\nlove son the person who does not make\\nproper use of time who always keeps\\npostponing his work for tomorrow and\\ndepends on his luck can never progress\\nin life hence we should use our time\\nproperly both of you got leave but Sonu\\nuse the time properly and its result is\\nin front of you and as for luck we are\\ntaught to make our own luck so learn to\\nutilize the time well and stay high in\\neveryone's eyes son I'm having high\\nexpectation from you hope you understand\\nwhat I'm telling to teach you son hence\\nwe should use our time properly you are\\nright Papa I have understood what you\\nsaid from today onwards I will follow\\nthe time so that you can be proud of me\\nlike Sonu\", 'summary': {'summary_text': 'The video discusses the contrasting behaviors of twin brothers, Sonu and Monu. Sonu is diligent, preparing for tests and projects promptly, while Monu procrastinates and prefers playing to studying. Their contrasting approaches result in Sonu performing well in his tests and Monu receiving reprimands. The father, moit, emphasizes the importance of managing time well to succeed and encourages Monu to adopt a more responsible attitude towards his studies and time management.', 'key_points': ['Sonu and Monu have different approaches to studying and time management.', \"Sonu's punctuality and diligence lead to better academic performance.\", \"Monu's procrastination results in poor performance and parental disappointment.\", \"Father moit stresses the importance of proper time management and making one's own luck.\"]}}\n",
      "====================================\n",
      "\n",
      "\n",
      "    Convert the following summarized transcript into a well-structed blog post.\n",
      "\n",
      "    The blog should be engaging, informative and well-structed with an introduction, key takeaway and a conclusion. \n",
      "\n",
      "    Return ONLY a valid JSON object formatted as follows (No extra text outside JSON):\n",
      "        {\n",
      "            \"title\" : \"Your Title Here\", \n",
      "            \"introduction: \"Introduction text here...\",\n",
      "            \"content: \"Main blog content here...\",\n",
      "            \"conclusion: \"Conclusion here...\"\n",
      "        }\n",
      "\n",
      "    Here is the transcript summary : \n",
      "    \n",
      "    {'summary_text': 'The video discusses the contrasting behaviors of twin brothers, Sonu and Monu. Sonu is diligent, preparing for tests and projects promptly, while Monu procrastinates and prefers playing to studying. Their contrasting approaches result in Sonu performing well in his tests and Monu receiving reprimands. The father, moit, emphasizes the importance of managing time well to succeed and encourages Monu to adopt a more responsible attitude towards his studies and time management.', 'key_points': ['Sonu and Monu have different approaches to studying and time management.', \"Sonu's punctuality and diligence lead to better academic performance.\", \"Monu's procrastination results in poor performance and parental disappointment.\", \"Father moit stresses the importance of proper time management and making one's own luck.\"]}\n",
      "    \n",
      "Blog post generated successfully : {'title': \"The Twin Brothers' Tale: Time Management and Academic Success\", 'introduction': 'In a tale of two brothers, Sonu and Monu, we see a stark contrast in their approaches to studying and managing their time. Sonu, the diligent brother, prepares thoroughly for tests and projects, while Monu, the procrastinator, prefers to play and put off his studies. This story not only highlights the differences between the twin brothers but also underscores the importance of time management and its impact on academic success.', 'content': \"Sonu and Monu, despite being twins, have drastically different approaches to their studies and how they manage their time. Sonu is diligent, ensuring that he stays on top of his assignments and prepares well in advance for tests and projects. This punctuality and dedication not only make his life less stressful but also contribute to his excellent academic performance. On the other hand, Monu, who prioritizes play over work, ends up procrastinating and, as a result, often finds himself in a rush to complete his tasks at the last minute. This approach not only affects his grades but also leads to reprimands from his parents, whose expectations are not met due to Monu's lack of discipline and foresight.\", 'conclusion': \"Father moit, seeing the differences in his sons' approaches, emphasizes the importance of proper time management. He encourages Monu to adopt a more responsible attitude towards his studies and time management, stressing that making the most of one's time leads to better outcomes and opportunities. This story of the twin brothers serves as a reminder that being proactive and managing one's time wisely can significantly impact academic success and personal satisfaction.\"}\n",
      "\n",
      "----- In Blog Review -----\n",
      "\n"
     ]
    },
    {
     "data": {
      "text/plain": [
       "{'video_url': 'https://www.youtube.com/watch?v=9ofL45Mrzj0',\n",
       " 'transcript': \"moit and SEMA were husband and wife they\\nhad twin Sons named Sonu and monu both\\nof them were twins but their faces were\\ncompletely different not only their\\nfaces but their thoughts and habits were\\nquite different like every day moit\\nwakes up on Sunday early in the morning\\nand sees that Sonu also wakes up early\\non Sunday and is studying sitting\\noutside on the couch Sonu son what is\\nthe matter that you are getting up so\\nearly in the morning to study Papa did\\nis a Hindi class test tomorrow and the\\nEnglish project has to be given to Mom\\nafter 2 days that's why I sat down to\\nstudy from morning just then SEMA brings\\nbreakfast for Sonu see one of our son is\\nSonu who wakes up early in the morning\\ntook bath and started studying and the\\nother is monu who woke up early in the\\nmorning but went out to play Bad ball\\nwith his friends just then monu comes\\nthere and talks to Mom Mom quickly give\\nme breakfast while playing bad ball I\\ngot hungry you are completely drenched\\nand sweat First Take bath then I will\\ngive you the breakfast oh Mom even on a\\nday off you don't let me rest in peace I\\nget one holiday in a week in that twoo\\nyou bathe me in the morning and make me\\nsit down to study I have the whole day\\nto study I will take a bath and also\\nstudy Sonu son what is the matter you\\nhave a test tomorrow so like Sonu first\\nof all you should prepare for the test\\nand the rest is just playing around Papa\\nI will study as well I still have the\\nwhole day for that those who do not work\\non time always have to repent hence\\nwhether it is work eating or playing\\nsports everything should be done on time\\nonly then you will be able to move ahead\\nin life learn to utilize time properly\\nlike Sonu does I have to go out for some\\nimportant work I will come in the\\nevening and listen to Hindi questions\\nand answers from both of you saying this\\nmoit goes away from there after some\\ntime Sonu learns everything in Hindi\\nstarts making a project in English while\\nmonu starts watching TV instead of\\nstudying monu's friends come to his\\nhouse to invite him to play monu\\neveryone is waiting for you to play Bad\\nball outside and you are busy watching\\nthis idiot box monu calls his mother mom\\nI'm going to play with my friends if you\\ngo to play Then when will you study hm\\nif you don't study more than your marks\\nwill come down hey Mom I will study in\\nthe evening and see I will also make the\\nEnglish project anyway the test is not\\ntoday but tomorrow and as far as marks\\nare concerned it is up to look whether\\nit is good or bad seeing this monu goes\\nout to play with his friends when moit\\ncomes home in the evening he sees that\\nSonu has prepared and decorated his\\nEnglish project as well yes Dad my\\npreparation for the Hindi test is also\\ncomplete SEMA this monu is not visible\\nanywhere as soon as moit sounds like\\nthis monu enters the house with a bat in\\nhis hand you have been roaming around\\nwith a bat since morning looking at you\\nit seems that neither you have taken\\nbath nor have you studied anything oh\\npapa you started talking about studies\\nas soon as you are back and it is only\\nevening I will study to monu used to\\npostpone all his work till tomorrow due\\nto which all his work remained incomp\\ncomplete the next day Sonu got good\\nmarks in the test whereas monu got a lot\\nof upbraiding from ma'am because of\\ngetting bad marks when both of them came\\nhome also from mother monu got\\nreprimanded a lot hey have some shame\\nmonu you have a brother who is of the\\nsame age as you he does all his work on\\ntime and you keep postponing it due to\\nwhich you always lag behind others as\\nsoon as moit comes home in the evening\\nhe sees the test numbers of both Sonu\\nand monu this is what I expected from\\nyou such dirty numbers that to in Hindi\\nand English you would finish the project\\nby tomorrow or the day after tomorrow\\nisn't it Papa what should I do my luck\\nis going bad moit explains monu with\\nlove son the person who does not make\\nproper use of time who always keeps\\npostponing his work for tomorrow and\\ndepends on his luck can never progress\\nin life hence we should use our time\\nproperly both of you got leave but Sonu\\nuse the time properly and its result is\\nin front of you and as for luck we are\\ntaught to make our own luck so learn to\\nutilize the time well and stay high in\\neveryone's eyes son I'm having high\\nexpectation from you hope you understand\\nwhat I'm telling to teach you son hence\\nwe should use our time properly you are\\nright Papa I have understood what you\\nsaid from today onwards I will follow\\nthe time so that you can be proud of me\\nlike Sonu\",\n",
       " 'summary': {'summary_text': 'The video discusses the contrasting behaviors of twin brothers, Sonu and Monu. Sonu is diligent, preparing for tests and projects promptly, while Monu procrastinates and prefers playing to studying. Their contrasting approaches result in Sonu performing well in his tests and Monu receiving reprimands. The father, moit, emphasizes the importance of managing time well to succeed and encourages Monu to adopt a more responsible attitude towards his studies and time management.',\n",
       "  'key_points': ['Sonu and Monu have different approaches to studying and time management.',\n",
       "   \"Sonu's punctuality and diligence lead to better academic performance.\",\n",
       "   \"Monu's procrastination results in poor performance and parental disappointment.\",\n",
       "   \"Father moit stresses the importance of proper time management and making one's own luck.\"]},\n",
       " 'blog_post': {'title': \"The Twin Brothers' Tale: Time Management and Academic Success\",\n",
       "  'introduction': 'In a tale of two brothers, Sonu and Monu, we see a stark contrast in their approaches to studying and managing their time. Sonu, the diligent brother, prepares thoroughly for tests and projects, while Monu, the procrastinator, prefers to play and put off his studies. This story not only highlights the differences between the twin brothers but also underscores the importance of time management and its impact on academic success.',\n",
       "  'content': \"Sonu and Monu, despite being twins, have drastically different approaches to their studies and how they manage their time. Sonu is diligent, ensuring that he stays on top of his assignments and prepares well in advance for tests and projects. This punctuality and dedication not only make his life less stressful but also contribute to his excellent academic performance. On the other hand, Monu, who prioritizes play over work, ends up procrastinating and, as a result, often finds himself in a rush to complete his tasks at the last minute. This approach not only affects his grades but also leads to reprimands from his parents, whose expectations are not met due to Monu's lack of discipline and foresight.\",\n",
       "  'conclusion': \"Father moit, seeing the differences in his sons' approaches, emphasizes the importance of proper time management. He encourages Monu to adopt a more responsible attitude towards his studies and time management, stressing that making the most of one's time leads to better outcomes and opportunities. This story of the twin brothers serves as a reminder that being proactive and managing one's time wisely can significantly impact academic success and personal satisfaction.\"},\n",
       " 'review_approved': True,\n",
       " 'human_feedback': ''}"
      ]
     },
     "execution_count": 11,
     "metadata": {},
     "output_type": "execute_result"
    }
   ],
   "source": [
    "video_url = \"https://www.youtube.com/watch?v=9ofL45Mrzj0\"\n",
    "workflow.invoke({\"video_url\" : video_url})\n"
   ]
  },
  {
   "cell_type": "code",
   "execution_count": null,
   "metadata": {},
   "outputs": [],
   "source": []
  }
 ],
 "metadata": {
  "kernelspec": {
   "display_name": "Python 3",
   "language": "python",
   "name": "python3"
  },
  "language_info": {
   "codemirror_mode": {
    "name": "ipython",
    "version": 3
   },
   "file_extension": ".py",
   "mimetype": "text/x-python",
   "name": "python",
   "nbconvert_exporter": "python",
   "pygments_lexer": "ipython3",
   "version": "3.12.0"
  }
 },
 "nbformat": 4,
 "nbformat_minor": 2
}
